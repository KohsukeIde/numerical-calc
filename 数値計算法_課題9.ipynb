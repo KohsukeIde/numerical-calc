{
  "nbformat": 4,
  "nbformat_minor": 0,
  "metadata": {
    "colab": {
      "provenance": [],
      "authorship_tag": "ABX9TyN7bYpM/BDB2BOaDc4i1Syc",
      "include_colab_link": true
    },
    "kernelspec": {
      "name": "python3",
      "display_name": "Python 3"
    },
    "language_info": {
      "name": "python"
    }
  },
  "cells": [
    {
      "cell_type": "markdown",
      "metadata": {
        "id": "view-in-github",
        "colab_type": "text"
      },
      "source": [
        "<a href=\"https://colab.research.google.com/github/KohsukeIde/numerical-calc/blob/main/%E6%95%B0%E5%80%A4%E8%A8%88%E7%AE%97%E6%B3%95_%E8%AA%B2%E9%A1%8C9.ipynb\" target=\"_parent\"><img src=\"https://colab.research.google.com/assets/colab-badge.svg\" alt=\"Open In Colab\"/></a>"
      ]
    },
    {
      "cell_type": "code",
      "execution_count": 3,
      "metadata": {
        "colab": {
          "base_uri": "https://localhost:8080/"
        },
        "id": "bN6mJ-m1-2oG",
        "outputId": "2979b2a5-366c-432a-8bbc-500342e7f346"
      },
      "outputs": [
        {
          "output_type": "stream",
          "name": "stdout",
          "text": [
            "課題1: ∇f(x)を求める\n",
            "∇f(x) = [-40*x1*(-x1**2 + x2) + 2*x1 - 2, -20*x1**2 + 20*x2]\n",
            "\n",
            "課題2: ヘッセ行列∇∇^T f(x)を求める\n",
            "∇∇^T f(x) = [\n",
            "  [2*(60*x1**2 - 20*x2 + 1), -40*x1],\n",
            "  [-40*x1, 20]\n",
            "]\n",
            "\n",
            "ニュートン法の実行:\n",
            "Iteration 1:\n",
            "x_0 = [-2  2]\n",
            "d_0 = [0.07317073 1.70731707]\n",
            "x_1 = [-1.92682927  3.70731707]\n",
            "\n",
            "Iteration 2:\n",
            "x_1 = [-1.92682927  3.70731707]\n",
            "d_1 = [  2.64373992 -10.18271697]\n",
            "x_2 = [ 0.71691066 -6.4753999 ]\n",
            "\n",
            "Iteration 3:\n",
            "x_2 = [ 0.71691066 -6.4753999 ]\n",
            "d_2 = [2.01076029e-03 6.99224386e+00]\n",
            "x_3 = [0.71892142 0.51684396]\n",
            "\n",
            "Iteration 4:\n",
            "x_3 = [0.71892142 0.51684396]\n",
            "d_3 = [0.28105586 0.40411819]\n",
            "x_4 = [0.99997727 0.92096215]\n",
            "\n",
            "Iteration 5:\n",
            "x_4 = [0.99997727 0.92096215]\n",
            "d_4 = [8.80945693e-06 7.90100128e-02]\n",
            "x_5 = [0.99998608 0.99997216]\n",
            "\n",
            "Optimal solution: [0.99998608 0.99997216]\n"
          ]
        }
      ],
      "source": [
        "import numpy as np\n",
        "import sympy as sp\n",
        "\n",
        "def f(x):\n",
        "    return 10 * (x[1] - x[0]**2)**2 + (1 - x[0])**2\n",
        "\n",
        "def grad_f(x):\n",
        "    x1, x2 = sp.symbols('x1 x2')\n",
        "    f_sym = 10 * (x2 - x1**2)**2 + (1 - x1)**2\n",
        "    df_dx1 = sp.diff(f_sym, x1)\n",
        "    df_dx2 = sp.diff(f_sym, x2)\n",
        "    return np.array([df_dx1.subs({x1: x[0], x2: x[1]}), df_dx2.subs({x1: x[0], x2: x[1]})], dtype=float)\n",
        "\n",
        "def hessian_f(x):\n",
        "    x1, x2 = sp.symbols('x1 x2')\n",
        "    f_sym = 10 * (x2 - x1**2)**2 + (1 - x1)**2\n",
        "    d2f_dx1dx1 = sp.diff(f_sym, x1, 2)\n",
        "    d2f_dx1dx2 = sp.diff(sp.diff(f_sym, x1), x2)\n",
        "    d2f_dx2dx2 = sp.diff(f_sym, x2, 2)\n",
        "    return np.array([\n",
        "        [d2f_dx1dx1.subs({x1: x[0], x2: x[1]}), d2f_dx1dx2.subs({x1: x[0], x2: x[1]})],\n",
        "        [d2f_dx1dx2.subs({x1: x[0], x2: x[1]}), d2f_dx2dx2.subs({x1: x[0], x2: x[1]})]\n",
        "    ], dtype=float)\n",
        "\n",
        "def newton_method(x0, max_iter=5):\n",
        "    x = x0\n",
        "    for k in range(max_iter):\n",
        "        print(f\"Iteration {k+1}:\")\n",
        "        print(f\"x_{k} = {x}\")\n",
        "\n",
        "        hessian = hessian_f(x)\n",
        "        grad = grad_f(x)\n",
        "        d = np.linalg.solve(hessian, -grad)\n",
        "\n",
        "        print(f\"d_{k} = {d}\")\n",
        "        x = x + d\n",
        "        print(f\"x_{k+1} = {x}\\n\")\n",
        "\n",
        "    return x\n",
        "\n",
        "# 初期値\n",
        "x0 = np.array([-2, 2])\n",
        "\n",
        "# 課題1: ∇f(x)を求める\n",
        "print(\"課題1: ∇f(x)を求める\")\n",
        "x1, x2 = sp.symbols('x1 x2')\n",
        "f_sym = 10 * (x2 - x1**2)**2 + (1 - x1)**2\n",
        "df_dx1 = sp.diff(f_sym, x1)\n",
        "df_dx2 = sp.diff(f_sym, x2)\n",
        "print(f\"∇f(x) = [{df_dx1}, {df_dx2}]\")\n",
        "\n",
        "# 課題2: ヘッセ行列∇∇^T f(x)を求める\n",
        "print(\"\\n課題2: ヘッセ行列∇∇^T f(x)を求める\")\n",
        "d2f_dx1dx1 = sp.diff(f_sym, x1, 2)\n",
        "d2f_dx1dx2 = sp.diff(sp.diff(f_sym, x1), x2)\n",
        "d2f_dx2dx2 = sp.diff(f_sym, x2, 2)\n",
        "print(f\"∇∇^T f(x) = [\")\n",
        "print(f\"  [{d2f_dx1dx1}, {d2f_dx1dx2}],\")\n",
        "print(f\"  [{d2f_dx1dx2}, {d2f_dx2dx2}]\")\n",
        "print(f\"]\")\n",
        "\n",
        "# ニュートン法の実行\n",
        "print(\"\\nニュートン法の実行:\")\n",
        "x_opt = newton_method(x0)\n",
        "\n",
        "print(f\"Optimal solution: {x_opt}\")"
      ]
    },
    {
      "cell_type": "code",
      "source": [],
      "metadata": {
        "id": "dKoXUNTrAqqX"
      },
      "execution_count": null,
      "outputs": []
    }
  ]
}